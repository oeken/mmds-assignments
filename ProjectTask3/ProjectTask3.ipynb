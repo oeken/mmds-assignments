{
 "cells": [
  {
   "cell_type": "code",
   "execution_count": 1,
   "metadata": {
    "collapsed": true
   },
   "outputs": [],
   "source": [
    "import json\n",
    "import os\n",
    "import numpy as np\n",
    "import matplotlib.pyplot as plt\n",
    "import seaborn as sns\n",
    "from sklearn.preprocessing import normalize\n",
    "import scipy.sparse as sp\n",
    "import pandas as pd\n",
    "import time\n",
    "%matplotlib inline"
   ]
  },
  {
   "cell_type": "markdown",
   "metadata": {},
   "source": [
    "# Helper Functions\n",
    "- These are not project task specific, generic, utility functions."
   ]
  },
  {
   "cell_type": "code",
   "execution_count": 2,
   "metadata": {
    "collapsed": false
   },
   "outputs": [],
   "source": [
    "def keysofdict(d):\n",
    "    rv = []\n",
    "    for k in d.keys():\n",
    "        rv.append(k)\n",
    "    return rv\n",
    "\n",
    "def lookup(d, l):\n",
    "    rv = []\n",
    "    for e in l:\n",
    "        rv.append(d[e])\n",
    "    return rv\n",
    "\n",
    "def index2binary(indices, size):\n",
    "    rv = np.zeros([size,1])\n",
    "    rv[indices] = 1\n",
    "    return rv"
   ]
  },
  {
   "cell_type": "markdown",
   "metadata": {},
   "source": [
    "# 1. Read JSON in to variable\n",
    "- Provide the path to main directory containing all songs"
   ]
  },
  {
   "cell_type": "code",
   "execution_count": 189,
   "metadata": {
    "collapsed": false
   },
   "outputs": [
    {
     "name": "stdout",
     "output_type": "stream",
     "text": [
      "How many songs? 9330\n"
     ]
    }
   ],
   "source": [
    "lastfmdir = '/Users/oeken/Downloads/lastfm_subset/'\n",
    "jsons = []\n",
    "\n",
    "for root, dirs, files in os.walk(lastfmdir):\n",
    "    jsons += [root + '/' + s for s in files]\n",
    "    \n",
    "\n",
    "print('How many songs?',len(jsons))"
   ]
  },
  {
   "cell_type": "code",
   "execution_count": 191,
   "metadata": {
    "collapsed": false
   },
   "outputs": [
    {
     "name": "stdout",
     "output_type": "stream",
     "text": [
      "CPU times: user 2.31 s, sys: 1.05 s, total: 3.37 s\n",
      "Wall time: 5.59 s\n"
     ]
    }
   ],
   "source": [
    "%%time\n",
    "# Read the jsons to the variable data\n",
    "data = []\n",
    "for jsondir in jsons:\n",
    "    with open(jsondir,'r') as f:\n",
    "        jsonstr = f.read()\n",
    "        jsondict = json.loads(jsonstr)\n",
    "        data.append(jsondict)"
   ]
  },
  {
   "cell_type": "markdown",
   "metadata": {},
   "source": [
    "# 2. Assign Song IDs"
   ]
  },
  {
   "cell_type": "code",
   "execution_count": 195,
   "metadata": {
    "collapsed": false
   },
   "outputs": [
    {
     "name": "stdout",
     "output_type": "stream",
     "text": [
      "How many are songs assigned an ID? 9330\n"
     ]
    }
   ],
   "source": [
    "track2id = {}  # mapping: track string --> Track ID\n",
    "track2info = {}  # mapping: track string --> Track info\n",
    "id2track = {}  # mapping: Track ID --> track string\n",
    "\n",
    "\n",
    "INDEX = 0\n",
    "for jsondict in data:\n",
    "    ar = jsondict['artist']\n",
    "    ti = jsondict['title']\n",
    "    tr = jsondict['track_id']\n",
    "    if not tr in track2id:\n",
    "        track2id[tr] = INDEX\n",
    "        track2info[tr] = [ar, ti]\n",
    "        id2track[INDEX] = tr\n",
    "        INDEX += 1\n",
    "\n",
    "print('How many are songs assigned an ID?',INDEX)"
   ]
  },
  {
   "cell_type": "code",
   "execution_count": 198,
   "metadata": {
    "collapsed": false
   },
   "outputs": [
    {
     "name": "stdout",
     "output_type": "stream",
     "text": [
      "0 TRAAAAW128F429D538 ['Casual', \"I Didn't Mean To\"]\n",
      "1 TRAAABD128F429CF47 ['The Box Tops', 'Soul Deep']\n",
      "2 TRAAADZ128F9348C2E ['La Sonora Santanera', 'Amor De Cabaret']\n",
      "3 TRAAAEF128F4273421 ['Adam Ant', 'Something Girls']\n",
      "4 TRAAAFD128F92F423A ['Gob', 'Face the Ashes']\n"
     ]
    }
   ],
   "source": [
    "# Test to see if we can fetch information we need\n",
    "for i in range(5):    \n",
    "    print(i, id2track[i], track2info[id2track[i]])"
   ]
  },
  {
   "cell_type": "markdown",
   "metadata": {},
   "source": [
    "# 3. Eliminate Unknown + Dissimilar ( $\\theta$ ) Songs \n",
    "- Here set the parameter $\\theta$\n",
    "- An unknown song is the song that does not an associated file with it in the given directory\n",
    "- Dissimilar song is the song that that not satisfy the thresholding ( $\\theta$ ) rule "
   ]
  },
  {
   "cell_type": "code",
   "execution_count": 206,
   "metadata": {
    "collapsed": false
   },
   "outputs": [],
   "source": [
    "theta = 0\n",
    "nomc = 0\n",
    "discarded_songs = 0 #missing_count\n",
    "for jsondict in data:\n",
    "    distilled_similars = []\n",
    "    for similartrack in jsondict['similars']:        \n",
    "        tr = similartrack[0]\n",
    "        sim = similartrack[1]\n",
    "        if tr in track2id and sim >= theta:  \n",
    "            distilled_similars.append(similartrack)\n",
    "            nomc += 1\n",
    "        else:\n",
    "            discarded_songs += 1\n",
    "    jsondict['similars'] = distilled_similars\n"
   ]
  },
  {
   "cell_type": "code",
   "execution_count": 207,
   "metadata": {
    "collapsed": false
   },
   "outputs": [
    {
     "name": "stdout",
     "output_type": "stream",
     "text": [
      "How many songs are discarded? 0\n"
     ]
    }
   ],
   "source": [
    "print('How many songs are discarded?',discarded_songs)"
   ]
  },
  {
   "cell_type": "markdown",
   "metadata": {},
   "source": [
    "# 4. Eliminate Weak  ($\\gamma$) Tags and Assign IDs\n",
    "- Here set the parameter $\\gamma$"
   ]
  },
  {
   "cell_type": "code",
   "execution_count": 210,
   "metadata": {
    "collapsed": false
   },
   "outputs": [],
   "source": [
    "gamma = 0\n",
    "\n",
    "tag2id = {}  # Mapping: tag name --> Tag ID\n",
    "id2tag = {}  # Mapping: tag ID --> tag name\n",
    "\n",
    "discarded_tags = 0\n",
    "INDEX_TAG = 0\n",
    "for jsondict in data:\n",
    "    distilled_tags = []\n",
    "    for tag in jsondict['tags']:                \n",
    "        if int(tag[1]) >= gamma:            \n",
    "            distilled_tags.append(tag)\n",
    "            if not tag[0] in tag2id:  \n",
    "                tag2id[tag[0]] = INDEX_TAG\n",
    "                id2tag[INDEX_TAG] = tag[0]\n",
    "                INDEX_TAG += 1\n",
    "            else:\n",
    "                discarded_tags += 1    \n",
    "    jsondict['tags'] = distilled_tags\n"
   ]
  },
  {
   "cell_type": "code",
   "execution_count": 209,
   "metadata": {
    "collapsed": false
   },
   "outputs": [
    {
     "name": "stdout",
     "output_type": "stream",
     "text": [
      "How many tags kept? 33355\n"
     ]
    }
   ],
   "source": [
    "print('How many tags are kept?',INDEX_TAG)"
   ]
  },
  {
   "cell_type": "code",
   "execution_count": 211,
   "metadata": {
    "collapsed": false
   },
   "outputs": [
    {
     "name": "stdout",
     "output_type": "stream",
     "text": [
      "How many tags are discarded? 65943\n"
     ]
    }
   ],
   "source": [
    "print('How many tags are discarded?',discarded_tags)"
   ]
  },
  {
   "cell_type": "markdown",
   "metadata": {},
   "source": [
    "**Example: ** *Tags of the first song after discarding the weak tags*"
   ]
  },
  {
   "cell_type": "code",
   "execution_count": 16,
   "metadata": {
    "collapsed": false
   },
   "outputs": [
    {
     "data": {
      "text/plain": [
       "[['Bay Area', '100'],\n",
       " ['hieroglyiphics', '100'],\n",
       " ['classic', '50'],\n",
       " ['Hip-Hop', '50'],\n",
       " ['stream', '50'],\n",
       " ['OG', '50'],\n",
       " ['1979-2006: A Hip-Hop Odyssey - 800 Tracks In A 48 Minute Mix', '50'],\n",
       " ['heiroglyphics', '50'],\n",
       " ['oaksterdamn', '50'],\n",
       " ['heard on Pandora', '0']]"
      ]
     },
     "execution_count": 16,
     "metadata": {},
     "output_type": "execute_result"
    }
   ],
   "source": [
    "data[0]['tags']"
   ]
  },
  {
   "cell_type": "markdown",
   "metadata": {},
   "source": [
    "# 5. Form Song Id - Track Id Dictionaries"
   ]
  },
  {
   "cell_type": "code",
   "execution_count": 212,
   "metadata": {
    "collapsed": false
   },
   "outputs": [],
   "source": [
    "trackid2tagid = {}  # mapping: track ID --> tag ID\n",
    "tagid2trackid = {}  # mapping: tag ID --> track ID\n",
    "\n",
    "for jsondict in data:\n",
    "    track = jsondict['track_id']\n",
    "    trackid = track2id[track]\n",
    "    if not trackid in trackid2tagid:\n",
    "        trackid2tagid[trackid] = set()\n",
    "\n",
    "    for tag in jsondict['tags']:\n",
    "        tagid = tag2id[tag[0]]\n",
    "        trackid2tagid[trackid].add(tagid)\n",
    "        if not tagid in tagid2trackid:\n",
    "            tagid2trackid[tagid] = set()            \n",
    "        tagid2trackid[tagid].add(trackid)        "
   ]
  },
  {
   "cell_type": "markdown",
   "metadata": {},
   "source": [
    "**Example:** *Tag IDs of the first song*"
   ]
  },
  {
   "cell_type": "code",
   "execution_count": 214,
   "metadata": {
    "collapsed": false
   },
   "outputs": [
    {
     "data": {
      "text/plain": [
       "{0, 1, 2, 3, 4, 5, 6, 7, 8, 9}"
      ]
     },
     "execution_count": 214,
     "metadata": {},
     "output_type": "execute_result"
    }
   ],
   "source": [
    "trackid2tagid[0]"
   ]
  },
  {
   "cell_type": "markdown",
   "metadata": {},
   "source": [
    "**Example:**\n",
    "- The first tag\n",
    "- Song IDs that contain this tag\n",
    "- Information about these songs"
   ]
  },
  {
   "cell_type": "code",
   "execution_count": 22,
   "metadata": {
    "collapsed": false
   },
   "outputs": [
    {
     "name": "stdout",
     "output_type": "stream",
     "text": [
      "Bay Area\n",
      "[0, 4224, 303, 2739, 2646, 4824, 8474, 1150]\n",
      "['Casual', \"I Didn't Mean To\"]\n",
      "['Metallica', 'Metal Militia']\n",
      "['Casual', 'OAKtown']\n",
      "['Joe Satriani', 'Midnight']\n",
      "['Dead Kennedys', 'Kill the Poor']\n",
      "['Dead Kennedys', 'Halloween']\n",
      "['Cake', 'Arco Arena']\n",
      "['Del tha Funkee Homosapien', 'Mistadobalina']\n"
     ]
    }
   ],
   "source": [
    "print(id2tag[0])\n",
    "ss = list(tagid2trackid[0])\n",
    "print(ss)\n",
    "for el in ss:    \n",
    "    print(track2info[id2track[el]])"
   ]
  },
  {
   "cell_type": "markdown",
   "metadata": {},
   "source": [
    "Legend:\n",
    "- $A$ is the Google matrix (the transition kernel)\n",
    "- $G$ is the column-normalised adjacency matrix (surfer matrix)\n",
    "- $\\beta$ is the chance of not teleporting\n",
    "- $e$ is the teleport vector (normalized)\n",
    "- $E$ is the teleport matrix (simply concatenated $e$'s )\n"
   ]
  },
  {
   "cell_type": "markdown",
   "metadata": {},
   "source": [
    "$$A = \\beta G + (1 - \\beta) E$$\n",
    "$$Ap = \\beta (Gp) + (1 - \\beta) (Ep)$$\n",
    "$$Ap = \\beta (Gp) + (1 - \\beta) e$$"
   ]
  },
  {
   "cell_type": "markdown",
   "metadata": {},
   "source": [
    "**Note: **Do not forget to normalize $Ap$ each time before assigning as the \"new\" $p$ since there are dead-end (not pointing to any other node) nodes in the graph and their columns do not sum to 1."
   ]
  },
  {
   "cell_type": "markdown",
   "metadata": {},
   "source": [
    "# 6. Form $G$ (Surfer Matrix)"
   ]
  },
  {
   "cell_type": "code",
   "execution_count": 215,
   "metadata": {
    "collapsed": false
   },
   "outputs": [
    {
     "name": "stdout",
     "output_type": "stream",
     "text": [
      "CPU times: user 81.1 ms, sys: 349 ms, total: 430 ms\n",
      "Wall time: 573 ms\n"
     ]
    }
   ],
   "source": [
    "%%time\n",
    "row_ind = []\n",
    "col_ind = []\n",
    "value = []\n",
    "\n",
    "for jsondict in data: \n",
    "    col_trackid = track2id[jsondict['track_id']]    \n",
    "    for similar in jsondict['similars']:\n",
    "        row_trackid = track2id[similar[0]]\n",
    "        col_ind.append(col_trackid)\n",
    "        row_ind.append(row_trackid)\n",
    "        value.append(1)"
   ]
  },
  {
   "cell_type": "code",
   "execution_count": 216,
   "metadata": {
    "collapsed": false
   },
   "outputs": [
    {
     "name": "stdout",
     "output_type": "stream",
     "text": [
      "CPU times: user 13 ms, sys: 6.6 ms, total: 19.6 ms\n",
      "Wall time: 22.5 ms\n"
     ]
    }
   ],
   "source": [
    "%%time\n",
    "G = sp.csc_matrix((value, (row_ind, col_ind)), shape=(INDEX,INDEX), dtype=np.float64)"
   ]
  },
  {
   "cell_type": "code",
   "execution_count": 217,
   "metadata": {
    "collapsed": false
   },
   "outputs": [
    {
     "name": "stdout",
     "output_type": "stream",
     "text": [
      "CPU times: user 2.03 ms, sys: 1.76 ms, total: 3.79 ms\n",
      "Wall time: 3.37 ms\n"
     ]
    }
   ],
   "source": [
    "%%time\n",
    "G = normalize(G, axis=0, norm='l1')"
   ]
  },
  {
   "cell_type": "markdown",
   "metadata": {},
   "source": [
    "# 7. Form $e$ (Teleport Vector)\n",
    "- Here set the Stag variable with desired genres"
   ]
  },
  {
   "cell_type": "code",
   "execution_count": 230,
   "metadata": {
    "collapsed": false
   },
   "outputs": [
    {
     "name": "stdout",
     "output_type": "stream",
     "text": [
      "Sum of teleport vector is 1.0\n"
     ]
    }
   ],
   "source": [
    "#Stag = []  # empty means all songs\n",
    "Stag = ['rock']  # empty means all songs\n",
    "\n",
    "S = set()\n",
    "if(len(Stag) == 0):\n",
    "    S = keysofdict(id2track)\n",
    "else:    \n",
    "    Stagid = lookup(tag2id, Stag)\n",
    "    for tagid in Stagid:\n",
    "        S = S.union(tagid2trackid[tagid])\n",
    "\n",
    "S = list(S)\n",
    "e = index2binary(S, INDEX)\n",
    "e = normalize(e, axis=0, norm='l1')\n",
    "\n",
    "print('Sum of teleport vector is',np.sum(e))\n"
   ]
  },
  {
   "cell_type": "markdown",
   "metadata": {},
   "source": [
    "# 9. Apply Topic Specific PageRank\n",
    "- Here set the parameter $\\beta$"
   ]
  },
  {
   "cell_type": "code",
   "execution_count": 231,
   "metadata": {
    "collapsed": false
   },
   "outputs": [],
   "source": [
    "beta = 0.8\n",
    "p = np.ones([INDEX, 1])\n",
    "P = p * (1/INDEX)"
   ]
  },
  {
   "cell_type": "code",
   "execution_count": 232,
   "metadata": {
    "collapsed": false
   },
   "outputs": [
    {
     "name": "stdout",
     "output_type": "stream",
     "text": [
      "96.5815758378\n",
      "0.0192671311161\n",
      "0.0130985971504\n",
      "0.00903930843148\n",
      "0.006833106789\n",
      "0.00542903025697\n",
      "0.00438528391022\n",
      "0.00360293501918\n",
      "0.00304371676222\n",
      "0.00256402734721\n",
      "CPU times: user 13 ms, sys: 3.47 ms, total: 16.5 ms\n",
      "Wall time: 19.3 ms\n"
     ]
    }
   ],
   "source": [
    "%%time\n",
    "# Ideally repeat until convergence\n",
    "for i in range(10):    \n",
    "    term = beta * G.dot(p) + (1 - beta) * e\n",
    "    p_new = normalize(term, axis=0, norm='l1')\n",
    "    print(np.linalg.norm(p_new-p))\n",
    "    p = p_new"
   ]
  },
  {
   "cell_type": "code",
   "execution_count": 233,
   "metadata": {
    "collapsed": false
   },
   "outputs": [
    {
     "name": "stdout",
     "output_type": "stream",
     "text": [
      "What does the last Ap sum to? 0.920075129131\n",
      "After normalization 1.0\n"
     ]
    }
   ],
   "source": [
    "print('What does the last Ap sum to?', np.sum(term))\n",
    "print('After normalization', np.sum(p))"
   ]
  },
  {
   "cell_type": "code",
   "execution_count": 234,
   "metadata": {
    "collapsed": false
   },
   "outputs": [],
   "source": [
    "best = np.sort(p.T,1)  # contains ranking scores\n",
    "best = np.fliplr(best)\n",
    "best = best.T\n",
    "\n",
    "besti = np.argsort(p.T,1) # contains ranking indices\n",
    "besti = np.fliplr(besti)\n",
    "besti = besti.T"
   ]
  },
  {
   "cell_type": "code",
   "execution_count": 235,
   "metadata": {
    "collapsed": false
   },
   "outputs": [
    {
     "data": {
      "text/html": [
       "<div>\n",
       "<table border=\"1\" class=\"dataframe\">\n",
       "  <thead>\n",
       "    <tr style=\"text-align: right;\">\n",
       "      <th></th>\n",
       "      <th>0</th>\n",
       "      <th>1</th>\n",
       "      <th>2</th>\n",
       "      <th>3</th>\n",
       "      <th>4</th>\n",
       "    </tr>\n",
       "  </thead>\n",
       "  <tbody>\n",
       "    <tr>\n",
       "      <th>0</th>\n",
       "      <td>Y&amp;T</td>\n",
       "      <td>Contagious</td>\n",
       "      <td>TRAWEDC128F14A2EBA</td>\n",
       "      <td>6034</td>\n",
       "      <td>0.011479402552944168</td>\n",
       "    </tr>\n",
       "    <tr>\n",
       "      <th>1</th>\n",
       "      <td>House of Lords</td>\n",
       "      <td>Rock Bottom</td>\n",
       "      <td>TRAENUU128F424F50C</td>\n",
       "      <td>1259</td>\n",
       "      <td>0.010516654500672866</td>\n",
       "    </tr>\n",
       "    <tr>\n",
       "      <th>2</th>\n",
       "      <td>Maroon 5</td>\n",
       "      <td>This Love</td>\n",
       "      <td>TRAZOSB128F9302A07</td>\n",
       "      <td>6964</td>\n",
       "      <td>0.010061891223904499</td>\n",
       "    </tr>\n",
       "    <tr>\n",
       "      <th>3</th>\n",
       "      <td>Radiohead</td>\n",
       "      <td>15 Step</td>\n",
       "      <td>TRARTEH128F423DBC1</td>\n",
       "      <td>4848</td>\n",
       "      <td>0.009407922750365677</td>\n",
       "    </tr>\n",
       "    <tr>\n",
       "      <th>4</th>\n",
       "      <td>Franz Ferdinand</td>\n",
       "      <td>Do You Want To</td>\n",
       "      <td>TRAZASM128F932FBEE</td>\n",
       "      <td>6816</td>\n",
       "      <td>0.009332182701316472</td>\n",
       "    </tr>\n",
       "    <tr>\n",
       "      <th>5</th>\n",
       "      <td>The White Stripes</td>\n",
       "      <td>Blue Orchid</td>\n",
       "      <td>TRBHLDQ128F423EF10</td>\n",
       "      <td>9066</td>\n",
       "      <td>0.009271863904613003</td>\n",
       "    </tr>\n",
       "    <tr>\n",
       "      <th>6</th>\n",
       "      <td>3 Doors Down</td>\n",
       "      <td>Here Without You</td>\n",
       "      <td>TRBDWDQ128F1455787</td>\n",
       "      <td>8095</td>\n",
       "      <td>0.008020242547244089</td>\n",
       "    </tr>\n",
       "    <tr>\n",
       "      <th>7</th>\n",
       "      <td>Death From Above 1979</td>\n",
       "      <td>Romantic Rights</td>\n",
       "      <td>TRADKAX128E0786B92</td>\n",
       "      <td>958</td>\n",
       "      <td>0.0076707829599138655</td>\n",
       "    </tr>\n",
       "    <tr>\n",
       "      <th>8</th>\n",
       "      <td>Aerosmith</td>\n",
       "      <td>Crazy</td>\n",
       "      <td>TRBGPJP128E078ED20</td>\n",
       "      <td>8810</td>\n",
       "      <td>0.00734273227701476</td>\n",
       "    </tr>\n",
       "    <tr>\n",
       "      <th>9</th>\n",
       "      <td>Aerosmith</td>\n",
       "      <td>Crazy</td>\n",
       "      <td>TRAZDPO128E078ECE6</td>\n",
       "      <td>6852</td>\n",
       "      <td>0.00734273227701476</td>\n",
       "    </tr>\n",
       "    <tr>\n",
       "      <th>10</th>\n",
       "      <td>Rihanna</td>\n",
       "      <td>Don't Stop The Music</td>\n",
       "      <td>TRADDXS12903CEDB38</td>\n",
       "      <td>890</td>\n",
       "      <td>0.007298796199793127</td>\n",
       "    </tr>\n",
       "    <tr>\n",
       "      <th>11</th>\n",
       "      <td>Beyoncé</td>\n",
       "      <td>Single Ladies (Put a Ring on It)</td>\n",
       "      <td>TRAPZTV128F92CAA4E</td>\n",
       "      <td>4381</td>\n",
       "      <td>0.006775605868308279</td>\n",
       "    </tr>\n",
       "    <tr>\n",
       "      <th>12</th>\n",
       "      <td>Janis Joplin</td>\n",
       "      <td>Piece Of My Heart</td>\n",
       "      <td>TRAHDJL128F9305B80</td>\n",
       "      <td>1957</td>\n",
       "      <td>0.00666160691587413</td>\n",
       "    </tr>\n",
       "    <tr>\n",
       "      <th>13</th>\n",
       "      <td>Warrant</td>\n",
       "      <td>Cherry Pie</td>\n",
       "      <td>TRAEGGV128F92F29B2</td>\n",
       "      <td>1188</td>\n",
       "      <td>0.006364896349278488</td>\n",
       "    </tr>\n",
       "    <tr>\n",
       "      <th>14</th>\n",
       "      <td>Wang Chung</td>\n",
       "      <td>Dance Hall Days</td>\n",
       "      <td>TRAFSAP128E0780ECF</td>\n",
       "      <td>1563</td>\n",
       "      <td>0.005989830326070336</td>\n",
       "    </tr>\n",
       "    <tr>\n",
       "      <th>15</th>\n",
       "      <td>Chris Brown</td>\n",
       "      <td>Forever</td>\n",
       "      <td>TRARZKD128F425D64D</td>\n",
       "      <td>4918</td>\n",
       "      <td>0.005938788452829125</td>\n",
       "    </tr>\n",
       "    <tr>\n",
       "      <th>16</th>\n",
       "      <td>Chris Brown</td>\n",
       "      <td>Forever</td>\n",
       "      <td>TRAAPVV128F425D64C</td>\n",
       "      <td>195</td>\n",
       "      <td>0.005938788452829125</td>\n",
       "    </tr>\n",
       "    <tr>\n",
       "      <th>17</th>\n",
       "      <td>Toni Braxton</td>\n",
       "      <td>He Wasn't Man Enough</td>\n",
       "      <td>TRAMFJR128F92C1DB1</td>\n",
       "      <td>3353</td>\n",
       "      <td>0.005880305567194857</td>\n",
       "    </tr>\n",
       "    <tr>\n",
       "      <th>18</th>\n",
       "      <td>Hot Tuna</td>\n",
       "      <td>Hesitation Blues</td>\n",
       "      <td>TRBETVK128F4288B49</td>\n",
       "      <td>8314</td>\n",
       "      <td>0.005773009717912837</td>\n",
       "    </tr>\n",
       "    <tr>\n",
       "      <th>19</th>\n",
       "      <td>Maroon 5</td>\n",
       "      <td>She Will Be Loved</td>\n",
       "      <td>TRBAMHJ128F9302A08</td>\n",
       "      <td>7214</td>\n",
       "      <td>0.005649891471949664</td>\n",
       "    </tr>\n",
       "  </tbody>\n",
       "</table>\n",
       "</div>"
      ],
      "text/plain": [
       "                        0                                 1  \\\n",
       "0                     Y&T                        Contagious   \n",
       "1          House of Lords                       Rock Bottom   \n",
       "2                Maroon 5                         This Love   \n",
       "3               Radiohead                           15 Step   \n",
       "4         Franz Ferdinand                    Do You Want To   \n",
       "5       The White Stripes                       Blue Orchid   \n",
       "6            3 Doors Down                  Here Without You   \n",
       "7   Death From Above 1979                   Romantic Rights   \n",
       "8               Aerosmith                             Crazy   \n",
       "9               Aerosmith                             Crazy   \n",
       "10                Rihanna              Don't Stop The Music   \n",
       "11                Beyoncé  Single Ladies (Put a Ring on It)   \n",
       "12           Janis Joplin                 Piece Of My Heart   \n",
       "13                Warrant                        Cherry Pie   \n",
       "14             Wang Chung                   Dance Hall Days   \n",
       "15            Chris Brown                           Forever   \n",
       "16            Chris Brown                           Forever   \n",
       "17           Toni Braxton              He Wasn't Man Enough   \n",
       "18               Hot Tuna                  Hesitation Blues   \n",
       "19               Maroon 5                 She Will Be Loved   \n",
       "\n",
       "                     2     3                      4  \n",
       "0   TRAWEDC128F14A2EBA  6034   0.011479402552944168  \n",
       "1   TRAENUU128F424F50C  1259   0.010516654500672866  \n",
       "2   TRAZOSB128F9302A07  6964   0.010061891223904499  \n",
       "3   TRARTEH128F423DBC1  4848   0.009407922750365677  \n",
       "4   TRAZASM128F932FBEE  6816   0.009332182701316472  \n",
       "5   TRBHLDQ128F423EF10  9066   0.009271863904613003  \n",
       "6   TRBDWDQ128F1455787  8095   0.008020242547244089  \n",
       "7   TRADKAX128E0786B92   958  0.0076707829599138655  \n",
       "8   TRBGPJP128E078ED20  8810    0.00734273227701476  \n",
       "9   TRAZDPO128E078ECE6  6852    0.00734273227701476  \n",
       "10  TRADDXS12903CEDB38   890   0.007298796199793127  \n",
       "11  TRAPZTV128F92CAA4E  4381   0.006775605868308279  \n",
       "12  TRAHDJL128F9305B80  1957    0.00666160691587413  \n",
       "13  TRAEGGV128F92F29B2  1188   0.006364896349278488  \n",
       "14  TRAFSAP128E0780ECF  1563   0.005989830326070336  \n",
       "15  TRARZKD128F425D64D  4918   0.005938788452829125  \n",
       "16  TRAAPVV128F425D64C   195   0.005938788452829125  \n",
       "17  TRAMFJR128F92C1DB1  3353   0.005880305567194857  \n",
       "18  TRBETVK128F4288B49  8314   0.005773009717912837  \n",
       "19  TRBAMHJ128F9302A08  7214   0.005649891471949664  "
      ]
     },
     "execution_count": 235,
     "metadata": {},
     "output_type": "execute_result"
    }
   ],
   "source": [
    "besttrack = lookup(id2track, besti[:,0])\n",
    "bestinfo = lookup(track2info, besttrack)\n",
    "bestinfo = np.reshape(np.asarray(bestinfo), (INDEX, 2))\n",
    "besttrack = np.reshape(np.asarray(besttrack), (INDEX,-1))\n",
    "out = np.hstack([bestinfo, besttrack, besti, best])\n",
    "pd.DataFrame(out).head(20)"
   ]
  },
  {
   "cell_type": "code",
   "execution_count": 236,
   "metadata": {
    "collapsed": false
   },
   "outputs": [
    {
     "data": {
      "text/plain": [
       "[['Run-D.M.C.', \"Run's House\"],\n",
       " ['G-Unit', \"Poppin' Them Thangs\"],\n",
       " ['Rihanna', 'SOS'],\n",
       " ['Ms. Dynamite', 'All I Ever'],\n",
       " ['Beastie Boys', \"Eugene's Lament\"],\n",
       " ['k-os', 'Man I Used To Be'],\n",
       " ['Eminem', 'The Way I Am'],\n",
       " ['The Game', 'Da Shit'],\n",
       " ['A Tribe Called Quest', 'Like It Like That'],\n",
       " ['K.I.Z.', 'Freiwild'],\n",
       " ['EPMD', \"I'm Mad\"],\n",
       " ['Samy Deluxe', 'Die Meisten'],\n",
       " ['Usher', \"Hey Daddy (Daddy's Home)\"],\n",
       " ['Krayzie Bone', 'Let It Burn'],\n",
       " ['Dendemann', 'Dendemänner braucht das Land'],\n",
       " ['Xzibit', 'Carry The Weight'],\n",
       " ['Massive Töne',\n",
       "  'Notify The President Feat. Celestial Souljahz - Shabazz The Disciple & Freestyle'],\n",
       " ['The Sugarhill Gang', '8th Wonder'],\n",
       " ['Aesop Rock', 'Coma'],\n",
       " ['The Game', 'Scream On Em'],\n",
       " ['Dilated Peoples', 'World On Wheels'],\n",
       " ['G-Unit', 'Tony Yayo Explosion'],\n",
       " ['OutKast', \"Happy Valentine's Day\"],\n",
       " ['Eko Fresh', 'Hartz IV'],\n",
       " ['The Roots', '100% Dundee'],\n",
       " ['Kanye West', 'School Spirit Skit 2'],\n",
       " ['Dynamite Deluxe', 'Zapzap'],\n",
       " ['Eric B. & Rakim', 'Follow The Leader'],\n",
       " ['Salt-N-Pepa', 'Push It'],\n",
       " ['Steel Pulse', 'Man No Sober (lp Version)'],\n",
       " ['Aesop Rock', 'Flashflood'],\n",
       " ['Fergie', 'London Bridge'],\n",
       " ['Dendemann', 'Sachmagehtsnoch'],\n",
       " ['Sean Kingston', 'Face Drop'],\n",
       " ['LL Cool J', 'Headsprung'],\n",
       " ['Rodney O & Joe Cooley', 'Your Chance to Rock'],\n",
       " ['Kanye West', 'Diamonds From Sierra Leone'],\n",
       " ['Non Phixion', 'Sleepwalkers'],\n",
       " ['Cassidy', 'Hotel'],\n",
       " ['Mobb Deep', 'Hell On Earth (Front Lines)'],\n",
       " ['Dynamite Deluxe', 'Zornig!'],\n",
       " ['Galactic', 'Think Back'],\n",
       " ['The Roots', 'One Shine'],\n",
       " ['JAY-Z', 'Change Clothes'],\n",
       " ['A Tribe Called Quest', 'Scenario'],\n",
       " ['Fu-Schnickens', 'True Fuschnick'],\n",
       " ['Las Niñas', 'Castillos y sueños'],\n",
       " ['The Pharcyde', \"I'm That Type of Nigga\"],\n",
       " ['Black Eyed Peas', \"Let's Get It Started\"],\n",
       " ['k-os', 'B-Boy Stance'],\n",
       " ['Dead Prez', 'Be Healthy'],\n",
       " ['Army of the Pharaohs', 'Narrow Grave'],\n",
       " ['The Pharcyde', \"Passin' Me By\"],\n",
       " ['Mobb Deep', 'Up North Trip'],\n",
       " ['OutKast', 'Synthesizer'],\n",
       " ['Beastie Boys', 'Shadrach'],\n",
       " ['Kanye West', 'Through The Wire'],\n",
       " ['Eminem', \"Just Don't Give A Fuck\"],\n",
       " ['Akon', \"Don't Matter\"],\n",
       " ['Lupe Fiasco', 'The Cool (Amended Album Version)'],\n",
       " ['Tha Alkaholiks', \"Only When I'm Drunk\"],\n",
       " ['Common', 'The 6th Sense'],\n",
       " ['Akon', 'Lonely'],\n",
       " ['Mobb Deep', 'Got It Twisted'],\n",
       " ['Blackalicious', 'Rock the Spot'],\n",
       " ['Eminem', 'The Way I Am'],\n",
       " ['Justin Timberlake', 'What Goes Around...Comes Around'],\n",
       " ['Black Eyed Peas', \"Let's Get It Started\"],\n",
       " ['Fergie', 'Voodoo Doll'],\n",
       " ['k-os', 'Heaven Only Knows'],\n",
       " ['Beastie Boys', 'Get It Together'],\n",
       " ['Gorillaz', 'November Has Come'],\n",
       " ['A Tribe Called Quest', 'Get A Hold'],\n",
       " ['Eric B. & Rakim', 'I Know You Got Soul'],\n",
       " ['The Beatnuts', \"No Escapin' This\"],\n",
       " ['OutKast', 'Call of Da Wild'],\n",
       " ['Eminem', 'The Way I Am'],\n",
       " ['K.I.Z.', 'Walpurgisnacht'],\n",
       " ['The Roots', 'The Ultimate'],\n",
       " ['Wyclef Jean', 'Guantanamera']]"
      ]
     },
     "execution_count": 236,
     "metadata": {},
     "output_type": "execute_result"
    }
   ],
   "source": [
    "# Observation\n",
    "lookup(track2info, lookup(id2track,tagid2trackid[tag2id['hiphop']]))"
   ]
  }
 ],
 "metadata": {
  "anaconda-cloud": {},
  "kernelspec": {
   "display_name": "Python [conda root]",
   "language": "python",
   "name": "conda-root-py"
  },
  "language_info": {
   "codemirror_mode": {
    "name": "ipython",
    "version": 3
   },
   "file_extension": ".py",
   "mimetype": "text/x-python",
   "name": "python",
   "nbconvert_exporter": "python",
   "pygments_lexer": "ipython3",
   "version": "3.5.2"
  }
 },
 "nbformat": 4,
 "nbformat_minor": 1
}
