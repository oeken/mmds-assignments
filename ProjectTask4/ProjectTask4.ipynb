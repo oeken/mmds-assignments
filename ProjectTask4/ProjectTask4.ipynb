{
 "cells": [
  {
   "cell_type": "code",
   "execution_count": 2,
   "metadata": {
    "collapsed": true
   },
   "outputs": [],
   "source": [
    "import json\n",
    "import os\n",
    "import numpy as np\n",
    "import matplotlib.pyplot as plt\n",
    "import seaborn as sns\n",
    "from sklearn.preprocessing import normalize\n",
    "import scipy.sparse as sparse\n",
    "import pandas as pd\n",
    "import time\n",
    "%matplotlib inline"
   ]
  },
  {
   "cell_type": "markdown",
   "metadata": {},
   "source": [
    "# 0. Helper Functions"
   ]
  },
  {
   "cell_type": "code",
   "execution_count": 3,
   "metadata": {
    "collapsed": true
   },
   "outputs": [],
   "source": [
    "def kmeans(X, k, iteration=-1):\n",
    "    ######INIT######\n",
    "    #init C, C_members randomly\n",
    "    (N, d) = X.shape\n",
    "    C = np.random.randint(0,k,[N,1])  # used to update classes fast\n",
    "    C_members = a = [set() for i in range(k)]  # used to compute centers fast\n",
    "    C_centers = np.ones([k, d])  # used to store center values    \n",
    "\n",
    "    for i in range(N):  # \n",
    "        C_members[C[i,0]].add(i)\n",
    "    ######INIT######\n",
    "        \n",
    "    flag = True\n",
    "    counter = 0\n",
    "    while flag:        \n",
    "        C_centers_prev = C_centers.copy()\n",
    "        for i in range(k):  # compute C_centers            \n",
    "            indices = [j for j in C_members[i]]\n",
    "            C_centers[i] = np.mean(X[indices,:],0)\n",
    "\n",
    "        for i in range(N):  # update C, C_members\n",
    "            C_old = C[i,0]\n",
    "            C_members[C_old].remove(i)\n",
    "\n",
    "            diff = C_centers - X[i,:]\n",
    "            C_new = np.argmin(np.sum(diff**2, 1))\n",
    "\n",
    "            C_members[C_new].add(i)\n",
    "            C[i,0] = C_new\n",
    "\n",
    "        counter += 1\n",
    "        #print(np.linalg.norm(C_centers - C_centers_prev))\n",
    "        if np.linalg.norm(C_centers - C_centers_prev) < 0.01 or (iteration == counter):\n",
    "            flag = False\n",
    "        \n",
    "    return (C, C_centers, C_members, counter)                    "
   ]
  },
  {
   "cell_type": "code",
   "execution_count": 4,
   "metadata": {
    "collapsed": true
   },
   "outputs": [],
   "source": [
    "def cluster_plot(X, C_centers):    \n",
    "    colors = ['#e47993','#7bb227','#4e0f91','#98332e','#5fabb2','#458186']\n",
    "\n",
    "    f = plt.figure()\n",
    "    ax = f.add_subplot(111)\n",
    "    ax.set_title('K-means')\n",
    "    \n",
    "    for i in range(N):\n",
    "        ax.plot(X[i,0],X[i,1],'.',color=colors[C[i,0]],lw=2)\n",
    "\n",
    "    for i in range(k):\n",
    "        ax.plot(C_centers[i,0], C_centers[i,1],'.',color=colors[i],lw=2, markersize=20)"
   ]
  },
  {
   "cell_type": "markdown",
   "metadata": {},
   "source": [
    "# 1. Read JSON in to variable\n",
    "- Provide the path to main directory containing all songs"
   ]
  },
  {
   "cell_type": "code",
   "execution_count": 5,
   "metadata": {
    "collapsed": false
   },
   "outputs": [
    {
     "name": "stdout",
     "output_type": "stream",
     "text": [
      "How many songs? 9330\n"
     ]
    }
   ],
   "source": [
    "lastfmdir = '/Users/oeken/Downloads/lastfm_subset/'\n",
    "jsons = []\n",
    "\n",
    "for root, dirs, files in os.walk(lastfmdir):\n",
    "    jsons += [root + '/' + s for s in files]\n",
    "    \n",
    "print('How many songs?',len(jsons))"
   ]
  },
  {
   "cell_type": "code",
   "execution_count": 6,
   "metadata": {
    "collapsed": false
   },
   "outputs": [
    {
     "name": "stdout",
     "output_type": "stream",
     "text": [
      "9330\n",
      "CPU times: user 2.12 s, sys: 733 ms, total: 2.85 s\n",
      "Wall time: 5.09 s\n"
     ]
    }
   ],
   "source": [
    "%%time\n",
    "# Read the jsons to the variable data\n",
    "song_ids = {}\n",
    "songs = []\n",
    "counter = 0\n",
    "for jsondir in jsons:\n",
    "    with open(jsondir,'r') as f:\n",
    "        jsonstr = f.read()\n",
    "        jsondict = json.loads(jsonstr)\n",
    "        songs.append(jsondict)\n",
    "        song_ids[jsondict['track_id']] = counter\n",
    "        counter += 1\n",
    "\n",
    "print(len(songs))"
   ]
  },
  {
   "cell_type": "markdown",
   "metadata": {},
   "source": [
    "# 3. Preprocess Songs\n",
    "\n",
    "1. We want to discard **dangling songs** from our data. A dangling song is the song that there is no json file associated with it in the *Last.fm* dataset.\n",
    "\n",
    "2. Additionally, we want to eliminate similar **songs that are not that similar** (determined by thresholding with $\\theta$)\n",
    "\n",
    "3. Furthermore, we want to eliminate **disjoint songs** that are:\n",
    "    - Does not point any other song (means similar list is empty)\n",
    "    - Not pointed by any other song."
   ]
  },
  {
   "cell_type": "markdown",
   "metadata": {},
   "source": [
    "### 3.1 Eliminate Dangling + Dissimilar ( $\\theta$ ) Songs\n",
    "- Here set the parameter $0 \\leq \\theta \\leq 1$\n",
    "- Note: We are removing songs from *'similar'* field of songs"
   ]
  },
  {
   "cell_type": "code",
   "execution_count": 7,
   "metadata": {
    "collapsed": false
   },
   "outputs": [
    {
     "name": "stdout",
     "output_type": "stream",
     "text": [
      "How many songs are discarded? 609507\n"
     ]
    }
   ],
   "source": [
    "theta = 0.1\n",
    "discarded_songs = 0\n",
    "for song in songs:\n",
    "    distilled_similars = []\n",
    "    for similartrack in song['similars']:        \n",
    "        tr = similartrack[0]\n",
    "        sim = similartrack[1]        \n",
    "        if tr in song_ids and sim >= theta:  \n",
    "            distilled_similars.append(similartrack)                    \n",
    "        else:\n",
    "            discarded_songs += 1\n",
    "    song['similars'] = distilled_similars\n",
    "\n",
    "print('How many songs are discarded?',discarded_songs)"
   ]
  },
  {
   "cell_type": "markdown",
   "metadata": {},
   "source": [
    "### 3.2 Find Out Referral Set"
   ]
  },
  {
   "cell_type": "code",
   "execution_count": 8,
   "metadata": {
    "collapsed": true
   },
   "outputs": [],
   "source": [
    "referral = set()\n",
    "for song in songs:\n",
    "    for similartrack in song['similars']:        \n",
    "        tr = similartrack[0]\n",
    "        referral.add(tr)        "
   ]
  },
  {
   "cell_type": "code",
   "execution_count": 9,
   "metadata": {
    "collapsed": false
   },
   "outputs": [
    {
     "name": "stdout",
     "output_type": "stream",
     "text": [
      "How many songs we have? 9330\n"
     ]
    }
   ],
   "source": [
    "print('How many songs we have? %d' %(len(songs)))"
   ]
  },
  {
   "cell_type": "code",
   "execution_count": 10,
   "metadata": {
    "collapsed": false
   },
   "outputs": [
    {
     "name": "stdout",
     "output_type": "stream",
     "text": [
      "How many songs are being reffered? 1257\n"
     ]
    }
   ],
   "source": [
    "print('How many songs are being reffered? %d' %(len(referral)))"
   ]
  },
  {
   "cell_type": "markdown",
   "metadata": {},
   "source": [
    "### 3.3 Eliminate Disjoint Songs"
   ]
  },
  {
   "cell_type": "code",
   "execution_count": 11,
   "metadata": {
    "collapsed": true
   },
   "outputs": [],
   "source": [
    "songs_distilled = []\n",
    "song_ids_distilled = {}\n",
    "counter = 0\n",
    "dc_counter = 0\n",
    "for song in songs:    \n",
    "    if len(song['similars']) != 0 or song['track_id'] in referral:\n",
    "        songs_distilled.append(song)            \n",
    "        song_ids_distilled[song['track_id']] = counter\n",
    "        counter += 1\n",
    "    else:\n",
    "        dc_counter += 1"
   ]
  },
  {
   "cell_type": "code",
   "execution_count": 12,
   "metadata": {
    "collapsed": false
   },
   "outputs": [
    {
     "name": "stdout",
     "output_type": "stream",
     "text": [
      "How many songs are discarded? 7270\n"
     ]
    }
   ],
   "source": [
    "print('How many songs are discarded? %d' % dc_counter)"
   ]
  },
  {
   "cell_type": "code",
   "execution_count": 13,
   "metadata": {
    "collapsed": false
   },
   "outputs": [
    {
     "name": "stdout",
     "output_type": "stream",
     "text": [
      "How many songs are left in dataset after preprocessing? 2060\n"
     ]
    }
   ],
   "source": [
    "print('How many songs are left in dataset after preprocessing? %d' % len(songs_distilled))"
   ]
  },
  {
   "cell_type": "code",
   "execution_count": 14,
   "metadata": {
    "collapsed": false
   },
   "outputs": [],
   "source": [
    "# Update variables and delete auxiliary variables\n",
    "songs = songs_distilled\n",
    "song_ids = song_ids_distilled\n",
    "N = len(songs)"
   ]
  },
  {
   "cell_type": "code",
   "execution_count": 15,
   "metadata": {
    "collapsed": false
   },
   "outputs": [],
   "source": [
    "del songs_distilled\n",
    "del song_ids_distilled"
   ]
  },
  {
   "cell_type": "markdown",
   "metadata": {},
   "source": [
    "# 4. Preprocess Tags\n",
    "- Eliminate Weak  ($\\gamma$) Tags and Assign Tag IDs\n",
    "- Here set the parameter $0 \\leq \\gamma \\leq 100$"
   ]
  },
  {
   "cell_type": "code",
   "execution_count": 16,
   "metadata": {
    "collapsed": false
   },
   "outputs": [
    {
     "name": "stdout",
     "output_type": "stream",
     "text": [
      "How many tags are discarded? 31776\n"
     ]
    }
   ],
   "source": [
    "tag2id = {}  # Mapping: tag name --> Tag ID\n",
    "id2tag = {}  # Mapping: tag ID --> tag name\n",
    "\n",
    "gamma = 10\n",
    "discarded_tags = 0\n",
    "INDEX_TAG = 0\n",
    "\n",
    "for song in songs:\n",
    "    distilled_tags = []\n",
    "    for tag in song['tags']:                \n",
    "        if int(tag[1]) >= gamma:            \n",
    "            distilled_tags.append(tag)\n",
    "            if not tag[0] in tag2id:  \n",
    "                tag2id[tag[0]] = INDEX_TAG\n",
    "                id2tag[INDEX_TAG] = tag[0]\n",
    "                INDEX_TAG += 1\n",
    "        else:\n",
    "            discarded_tags += 1    \n",
    "    song['tags'] = distilled_tags\n",
    "\n",
    "print('How many tags are discarded?',discarded_tags)"
   ]
  },
  {
   "cell_type": "code",
   "execution_count": 17,
   "metadata": {
    "collapsed": false
   },
   "outputs": [],
   "source": [
    "N_tag = len(tag2id)"
   ]
  },
  {
   "cell_type": "code",
   "execution_count": 18,
   "metadata": {
    "collapsed": false
   },
   "outputs": [
    {
     "data": {
      "text/plain": [
       "[['Bay Area', '100'],\n",
       " ['hieroglyiphics', '100'],\n",
       " ['classic', '50'],\n",
       " ['Hip-Hop', '50'],\n",
       " ['stream', '50'],\n",
       " ['OG', '50'],\n",
       " ['1979-2006: A Hip-Hop Odyssey - 800 Tracks In A 48 Minute Mix', '50'],\n",
       " ['heiroglyphics', '50'],\n",
       " ['oaksterdamn', '50']]"
      ]
     },
     "execution_count": 18,
     "metadata": {},
     "output_type": "execute_result"
    }
   ],
   "source": [
    "songs[0]['tags']"
   ]
  },
  {
   "cell_type": "markdown",
   "metadata": {},
   "source": [
    "# 5. Form Song ID - Tag ID Dictionaries"
   ]
  },
  {
   "cell_type": "code",
   "execution_count": 19,
   "metadata": {
    "collapsed": false
   },
   "outputs": [],
   "source": [
    "song2tag = {}  # mapping: song ID --> tag ID\n",
    "tag2song = {}  # mapping: tag ID --> song ID\n",
    "\n",
    "for song in songs:\n",
    "    track = song['track_id']\n",
    "    song_id = song_ids[track]\n",
    "    if not song_id in song2tag:\n",
    "        song2tag[song_id] = set()\n",
    "\n",
    "    for tag in song['tags']:\n",
    "        tagid = tag2id[tag[0]]\n",
    "        song2tag[song_id].add(tagid)\n",
    "        if tagid not in tag2song:\n",
    "            tag2song[tagid] = set()            \n",
    "        tag2song[tagid].add(song_id)        "
   ]
  },
  {
   "cell_type": "markdown",
   "metadata": {},
   "source": [
    "**Example:** *Tag IDs of the first song*"
   ]
  },
  {
   "cell_type": "code",
   "execution_count": 20,
   "metadata": {
    "collapsed": false
   },
   "outputs": [
    {
     "name": "stdout",
     "output_type": "stream",
     "text": [
      "{0, 1, 2, 3, 4, 5, 6, 7, 8}\n"
     ]
    },
    {
     "data": {
      "text/plain": [
       "['Bay Area',\n",
       " 'hieroglyiphics',\n",
       " 'classic',\n",
       " 'Hip-Hop',\n",
       " 'stream',\n",
       " 'OG',\n",
       " '1979-2006: A Hip-Hop Odyssey - 800 Tracks In A 48 Minute Mix',\n",
       " 'heiroglyphics',\n",
       " 'oaksterdamn']"
      ]
     },
     "execution_count": 20,
     "metadata": {},
     "output_type": "execute_result"
    }
   ],
   "source": [
    "print(song2tag[0])\n",
    "[id2tag[i] for i in song2tag[0]]"
   ]
  },
  {
   "cell_type": "markdown",
   "metadata": {},
   "source": [
    "**Example:** *Songs having the first tag*"
   ]
  },
  {
   "cell_type": "code",
   "execution_count": 21,
   "metadata": {
    "collapsed": false
   },
   "outputs": [
    {
     "name": "stdout",
     "output_type": "stream",
     "text": [
      "Bay Area\n",
      "{0, 75}\n"
     ]
    },
    {
     "data": {
      "text/plain": [
       "[['Casual', \"I Didn't Mean To\"], ['Casual', 'OAKtown']]"
      ]
     },
     "execution_count": 21,
     "metadata": {},
     "output_type": "execute_result"
    }
   ],
   "source": [
    "print(id2tag[0])\n",
    "print(tag2song[0])\n",
    "\n",
    "[[songs[i]['artist'], songs[i]['title']] for i in tag2song[0]]"
   ]
  },
  {
   "cell_type": "markdown",
   "metadata": {},
   "source": [
    "# 6. Form $W$ (Weighted Adjacency Matrix)"
   ]
  },
  {
   "cell_type": "code",
   "execution_count": 22,
   "metadata": {
    "collapsed": false
   },
   "outputs": [
    {
     "name": "stdout",
     "output_type": "stream",
     "text": [
      "CPU times: user 20.7 ms, sys: 1.19 ms, total: 21.9 ms\n",
      "Wall time: 21.2 ms\n"
     ]
    }
   ],
   "source": [
    "%%time\n",
    "pairs = {}\n",
    "for song in songs: \n",
    "    refsong_id = song_ids[song['track_id']]\n",
    "    for simsong in song['similars']:\n",
    "        simsong_id = song_ids[simsong[0]]\n",
    "        one = str(refsong_id) + '+' + str(simsong_id)\n",
    "        two = str(simsong_id) + '+' + str(refsong_id)\n",
    "        if two in pairs:\n",
    "            pairs[two] = max(pairs[two], simsong[1])\n",
    "        else:\n",
    "            pairs[one] = simsong[1]\n",
    "            \n",
    "\n",
    "row_ind = []\n",
    "col_ind = []\n",
    "values = []\n",
    "            \n",
    "for pair in pairs.keys():\n",
    "    arr = pair.split('+')    \n",
    "    one = int(arr[0])\n",
    "    two = int(arr[1])\n",
    "    \n",
    "    col_ind.append(one)\n",
    "    row_ind.append(two)\n",
    "    values.append(pairs[pair])\n",
    "    \n",
    "    col_ind.append(two)\n",
    "    row_ind.append(one)\n",
    "    values.append(pairs[pair])\n",
    "    "
   ]
  },
  {
   "cell_type": "code",
   "execution_count": 28,
   "metadata": {
    "collapsed": false
   },
   "outputs": [
    {
     "name": "stdout",
     "output_type": "stream",
     "text": [
      "Is it symmetric? True\n"
     ]
    }
   ],
   "source": [
    "W = sparse.csc_matrix((values, (row_ind, col_ind)), shape=(N,N), dtype=np.float64)\n",
    "W.sum(0)\n",
    "print('Is it symmetric?',(W.T.toarray() == W.toarray()).all())"
   ]
  },
  {
   "cell_type": "code",
   "execution_count": 29,
   "metadata": {
    "collapsed": false
   },
   "outputs": [
    {
     "data": {
      "text/plain": [
       "False"
      ]
     },
     "execution_count": 29,
     "metadata": {},
     "output_type": "execute_result"
    }
   ],
   "source": [
    "# Test if there is a disjoint song in the set\n",
    "(W.sum(0) == 0).any()"
   ]
  },
  {
   "cell_type": "code",
   "execution_count": 30,
   "metadata": {
    "collapsed": false
   },
   "outputs": [
    {
     "name": "stdout",
     "output_type": "stream",
     "text": [
      "CPU times: user 71.6 ms, sys: 8.32 ms, total: 79.9 ms\n",
      "Wall time: 82.2 ms\n"
     ]
    }
   ],
   "source": [
    "%%time\n",
    "D = sparse.csc_matrix(np.diag(W.sum(0).tolist()[0]))"
   ]
  },
  {
   "cell_type": "code",
   "execution_count": 31,
   "metadata": {
    "collapsed": false
   },
   "outputs": [
    {
     "name": "stdout",
     "output_type": "stream",
     "text": [
      "CPU times: user 2 µs, sys: 1e+03 ns, total: 3 µs\n",
      "Wall time: 6.91 µs\n"
     ]
    }
   ],
   "source": [
    "%time\n",
    "L = D - W"
   ]
  },
  {
   "cell_type": "code",
   "execution_count": 32,
   "metadata": {
    "collapsed": false
   },
   "outputs": [
    {
     "data": {
      "text/plain": [
       "-465"
      ]
     },
     "execution_count": 32,
     "metadata": {},
     "output_type": "execute_result"
    }
   ],
   "source": [
    "((L.sum(0) == 0) - 1).sum()"
   ]
  },
  {
   "cell_type": "code",
   "execution_count": 33,
   "metadata": {
    "collapsed": false
   },
   "outputs": [
    {
     "data": {
      "text/plain": [
       "1611"
      ]
     },
     "execution_count": 33,
     "metadata": {},
     "output_type": "execute_result"
    }
   ],
   "source": [
    "np.linalg.matrix_rank(L.toarray())"
   ]
  },
  {
   "cell_type": "code",
   "execution_count": 34,
   "metadata": {
    "collapsed": false
   },
   "outputs": [
    {
     "name": "stdout",
     "output_type": "stream",
     "text": [
      "CPU times: user 243 ms, sys: 8.25 ms, total: 251 ms\n",
      "Wall time: 149 ms\n"
     ]
    }
   ],
   "source": [
    "%%time\n",
    "k = 5\n",
    "eigvals, eigvecs = sparse.linalg.eigsh(L, k=k, which='LM', sigma=0.000000000000001)"
   ]
  },
  {
   "cell_type": "code",
   "execution_count": 35,
   "metadata": {
    "collapsed": false
   },
   "outputs": [
    {
     "data": {
      "text/plain": [
       "array([  5.63104291e-17,   5.63104291e-17,   5.95757909e-17,\n",
       "         6.05805176e-17,   1.56230501e-16])"
      ]
     },
     "execution_count": 35,
     "metadata": {},
     "output_type": "execute_result"
    }
   ],
   "source": [
    "eigvals"
   ]
  },
  {
   "cell_type": "code",
   "execution_count": 36,
   "metadata": {
    "collapsed": false
   },
   "outputs": [
    {
     "data": {
      "text/plain": [
       "array([[  4.14023553e-18,  -3.24500672e-18,  -5.47816256e-18,\n",
       "          1.08191679e-17,   1.61502078e-18],\n",
       "       [  6.52028538e-15,   5.55111512e-16,   3.83859611e-14,\n",
       "          1.38675049e-01,   1.10551698e-16],\n",
       "       [ -5.85635773e-18,  -4.48823312e-18,   1.13998422e-18,\n",
       "          4.86306960e-18,  -1.49029766e-18],\n",
       "       ..., \n",
       "       [ -9.31982308e-19,  -3.04196006e-18,   8.23168582e-21,\n",
       "          3.64097995e-18,   6.29283519e-19],\n",
       "       [  1.18270072e-01,   7.79993611e-02,   3.17435996e-15,\n",
       "         -5.98459604e-15,  -1.38835082e-16],\n",
       "       [ -2.23891105e-16,  -1.15016229e-17,   2.73351710e-16,\n",
       "         -1.75346645e-17,  -6.31171936e-17]])"
      ]
     },
     "execution_count": 36,
     "metadata": {},
     "output_type": "execute_result"
    }
   ],
   "source": [
    "eigvecs"
   ]
  },
  {
   "cell_type": "code",
   "execution_count": 37,
   "metadata": {
    "collapsed": false
   },
   "outputs": [],
   "source": [
    "(C, C_centers, C_members, c) = kmeans(eigvecs, k)"
   ]
  },
  {
   "cell_type": "code",
   "execution_count": 38,
   "metadata": {
    "collapsed": false
   },
   "outputs": [
    {
     "data": {
      "text/plain": [
       "5"
      ]
     },
     "execution_count": 38,
     "metadata": {},
     "output_type": "execute_result"
    }
   ],
   "source": [
    "c"
   ]
  },
  {
   "cell_type": "code",
   "execution_count": 39,
   "metadata": {
    "collapsed": false
   },
   "outputs": [
    {
     "data": {
      "text/plain": [
       "0"
      ]
     },
     "execution_count": 39,
     "metadata": {},
     "output_type": "execute_result"
    }
   ],
   "source": [
    "(C == 6).sum()"
   ]
  },
  {
   "cell_type": "code",
   "execution_count": 40,
   "metadata": {
    "collapsed": false
   },
   "outputs": [
    {
     "data": {
      "text/html": [
       "<div>\n",
       "<table border=\"1\" class=\"dataframe\">\n",
       "  <thead>\n",
       "    <tr style=\"text-align: right;\">\n",
       "      <th></th>\n",
       "      <th>0</th>\n",
       "      <th>1</th>\n",
       "      <th>2</th>\n",
       "      <th>3</th>\n",
       "      <th>4</th>\n",
       "      <th>5</th>\n",
       "      <th>6</th>\n",
       "      <th>7</th>\n",
       "      <th>8</th>\n",
       "      <th>9</th>\n",
       "      <th>...</th>\n",
       "      <th>2050</th>\n",
       "      <th>2051</th>\n",
       "      <th>2052</th>\n",
       "      <th>2053</th>\n",
       "      <th>2054</th>\n",
       "      <th>2055</th>\n",
       "      <th>2056</th>\n",
       "      <th>2057</th>\n",
       "      <th>2058</th>\n",
       "      <th>2059</th>\n",
       "    </tr>\n",
       "  </thead>\n",
       "  <tbody>\n",
       "    <tr>\n",
       "      <th>0</th>\n",
       "      <td>1</td>\n",
       "      <td>4</td>\n",
       "      <td>1</td>\n",
       "      <td>1</td>\n",
       "      <td>1</td>\n",
       "      <td>1</td>\n",
       "      <td>1</td>\n",
       "      <td>1</td>\n",
       "      <td>1</td>\n",
       "      <td>1</td>\n",
       "      <td>...</td>\n",
       "      <td>1</td>\n",
       "      <td>1</td>\n",
       "      <td>1</td>\n",
       "      <td>1</td>\n",
       "      <td>1</td>\n",
       "      <td>1</td>\n",
       "      <td>1</td>\n",
       "      <td>1</td>\n",
       "      <td>1</td>\n",
       "      <td>1</td>\n",
       "    </tr>\n",
       "  </tbody>\n",
       "</table>\n",
       "<p>1 rows × 2060 columns</p>\n",
       "</div>"
      ],
      "text/plain": [
       "   0     1     2     3     4     5     6     7     8     9     ...   2050  \\\n",
       "0     1     4     1     1     1     1     1     1     1     1  ...      1   \n",
       "\n",
       "   2051  2052  2053  2054  2055  2056  2057  2058  2059  \n",
       "0     1     1     1     1     1     1     1     1     1  \n",
       "\n",
       "[1 rows x 2060 columns]"
      ]
     },
     "execution_count": 40,
     "metadata": {},
     "output_type": "execute_result"
    }
   ],
   "source": [
    "pd.DataFrame(C.T)"
   ]
  },
  {
   "cell_type": "code",
   "execution_count": 41,
   "metadata": {
    "collapsed": false
   },
   "outputs": [
    {
     "data": {
      "text/plain": [
       "set"
      ]
     },
     "execution_count": 41,
     "metadata": {},
     "output_type": "execute_result"
    }
   ],
   "source": [
    "type(C_members[0])"
   ]
  },
  {
   "cell_type": "code",
   "execution_count": 42,
   "metadata": {
    "collapsed": false
   },
   "outputs": [],
   "source": [
    "#tagx = np.arange(0, N_tag)\n",
    "#tagy = np.zeros([k, N_tag])\n",
    "tagcounts = [[] for i in range(k)]\n",
    "counter = 0\n",
    "for curr_members in C_members:    \n",
    "    for curr_song_id in curr_members:\n",
    "        for curr_tag in song2tag[curr_song_id]:\n",
    "            tagcounts[counter].append(id2tag[curr_tag])\n",
    "            #tagy[counter,curr_tag] += 1\n",
    "    counter += 1\n"
   ]
  },
  {
   "cell_type": "code",
   "execution_count": 47,
   "metadata": {
    "collapsed": false
   },
   "outputs": [
    {
     "data": {
      "text/plain": [
       "[94, 12276, 39, 58, 419]"
      ]
     },
     "execution_count": 47,
     "metadata": {},
     "output_type": "execute_result"
    }
   ],
   "source": [
    "clustersongcounts = []\n",
    "for members in C_members:\n",
    "    clustersongcounts.append(len(members))\n",
    "    \n",
    "clustertagcounts = []\n",
    "for i in range(k):\n",
    "    clustertagcounts.append(len(tagcounts[i]))"
   ]
  },
  {
   "cell_type": "markdown",
   "metadata": {},
   "source": [
    "**Cluster Song Counts**"
   ]
  },
  {
   "cell_type": "code",
   "execution_count": 52,
   "metadata": {
    "collapsed": false
   },
   "outputs": [
    {
     "data": {
      "text/html": [
       "<div>\n",
       "<table border=\"1\" class=\"dataframe\">\n",
       "  <thead>\n",
       "    <tr style=\"text-align: right;\">\n",
       "      <th></th>\n",
       "      <th>0</th>\n",
       "      <th>1</th>\n",
       "      <th>2</th>\n",
       "      <th>3</th>\n",
       "      <th>4</th>\n",
       "    </tr>\n",
       "  </thead>\n",
       "  <tbody>\n",
       "    <tr>\n",
       "      <th>0</th>\n",
       "      <td>10</td>\n",
       "      <td>1969</td>\n",
       "      <td>12</td>\n",
       "      <td>17</td>\n",
       "      <td>52</td>\n",
       "    </tr>\n",
       "  </tbody>\n",
       "</table>\n",
       "</div>"
      ],
      "text/plain": [
       "    0     1   2   3   4\n",
       "0  10  1969  12  17  52"
      ]
     },
     "execution_count": 52,
     "metadata": {},
     "output_type": "execute_result"
    }
   ],
   "source": [
    "pd.DataFrame(clustersongcounts).T"
   ]
  },
  {
   "cell_type": "markdown",
   "metadata": {},
   "source": [
    "**Cluster Tag Counts**"
   ]
  },
  {
   "cell_type": "code",
   "execution_count": 53,
   "metadata": {
    "collapsed": false
   },
   "outputs": [
    {
     "data": {
      "text/html": [
       "<div>\n",
       "<table border=\"1\" class=\"dataframe\">\n",
       "  <thead>\n",
       "    <tr style=\"text-align: right;\">\n",
       "      <th></th>\n",
       "      <th>0</th>\n",
       "      <th>1</th>\n",
       "      <th>2</th>\n",
       "      <th>3</th>\n",
       "      <th>4</th>\n",
       "    </tr>\n",
       "  </thead>\n",
       "  <tbody>\n",
       "    <tr>\n",
       "      <th>0</th>\n",
       "      <td>94</td>\n",
       "      <td>12276</td>\n",
       "      <td>39</td>\n",
       "      <td>58</td>\n",
       "      <td>419</td>\n",
       "    </tr>\n",
       "  </tbody>\n",
       "</table>\n",
       "</div>"
      ],
      "text/plain": [
       "    0      1   2   3    4\n",
       "0  94  12276  39  58  419"
      ]
     },
     "execution_count": 53,
     "metadata": {},
     "output_type": "execute_result"
    }
   ],
   "source": [
    "pd.DataFrame(clustertagcounts).T"
   ]
  },
  {
   "cell_type": "code",
   "execution_count": 80,
   "metadata": {
    "collapsed": false
   },
   "outputs": [
    {
     "data": {
      "text/plain": [
       "(array([ 0,  1,  2,  3,  4,  5,  6,  7,  8,  9, 10, 11, 12, 13, 14, 15, 16,\n",
       "        17, 18, 19, 20, 21, 22, 23, 24, 25, 26, 27, 28, 29, 30, 31]),\n",
       " <a list of 32 Text xticklabel objects>)"
      ]
     },
     "execution_count": 80,
     "metadata": {},
     "output_type": "execute_result"
    },
    {
     "data": {
      "image/png": "[encoded data removed]",
      "text/plain": [
       "<matplotlib.figure.Figure at 0x128b0e780>"
      ]
     },
     "metadata": {},
     "output_type": "display_data"
    }
   ],
   "source": [
    "whichcluster = 2\n",
    "f = plt.figure(figsize=(15,5))\n",
    "ax = f.add_subplot(111)    \n",
    "sns.countplot(tagcounts[whichcluster], ax=ax)\n",
    "plt.xticks(rotation=45, fontsize=12)"
   ]
  },
  {
   "cell_type": "code",
   "execution_count": null,
   "metadata": {
    "collapsed": true
   },
   "outputs": [],
   "source": []
  }
 ],
 "metadata": {
  "anaconda-cloud": {},
  "kernelspec": {
   "display_name": "Python [conda root]",
   "language": "python",
   "name": "conda-root-py"
  },
  "language_info": {
   "codemirror_mode": {
    "name": "ipython",
    "version": 3
   },
   "file_extension": ".py",
   "mimetype": "text/x-python",
   "name": "python",
   "nbconvert_exporter": "python",
   "pygments_lexer": "ipython3",
   "version": "3.5.2"
  }
 },
 "nbformat": 4,
 "nbformat_minor": 1
}
