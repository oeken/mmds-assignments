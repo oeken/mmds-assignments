{
 "cells": [
  {
   "cell_type": "markdown",
   "metadata": {},
   "source": [
    "## Song Recommendation "
   ]
  },
  {
   "cell_type": "code",
   "execution_count": 1,
   "metadata": {
    "collapsed": true
   },
   "outputs": [],
   "source": [
    "import pandas as pd\n",
    "import numpy.linalg as la\n",
    "import numpy as np\n",
    "import matplotlib.pyplot as plt\n",
    "import seaborn as sns\n",
    "np.set_printoptions(precision=3)"
   ]
  },
  {
   "cell_type": "code",
   "execution_count": 2,
   "metadata": {
    "collapsed": false
   },
   "outputs": [],
   "source": [
    "def evaluate_RMSE(test, P, Q):\n",
    "    y_hat = np.zeros([test.shape[0],1])\n",
    "    y = test[:,2]\n",
    "    c = 0\n",
    "    for row in test:\n",
    "        y_hat[c] = P[row[0],:].dot(Q[row[1],:].T)\n",
    "        c +=1\n",
    "    return RMSE(y_hat, y)\n",
    "\n",
    "def RMSE(y_hat, y): # y_hat --> observed, y --> prediction, they both are col vectors    \n",
    "    return np.sqrt(np.mean((y - y_hat)**2)) \n",
    "\n",
    "def R_to_M(n, m, R):\n",
    "    N = R.shape[0]\n",
    "    M = np.zeros([n,m])\n",
    "    for i in range(N):\n",
    "        row = R[i,0]\n",
    "        col = R[i,1]\n",
    "        M[row,col] = R[i,2]\n",
    "    return M\n",
    "\n",
    "def initialize_PQ(n,m,k):\n",
    "    np.random.seed(100)\n",
    "    return np.random.rand(n,k), np.random.rand(m,k)\n",
    "\n",
    "def initialize_PQ_svd(n, m, R, k, given=\"R\"):\n",
    "    M = R if(given == \"M\") else R_to_M(n, m, R)\n",
    "    U,S,V = la.svd(M)\n",
    "    S_sq = np.sqrt(S)\n",
    "    return U[:,:k].dot(np.diag(S_sq[:k])), np.diag(S_sq[:k]).dot(V[:k,:]).T\n",
    "    \n",
    "\n",
    "def alternating_lstsq(R, k, cycles, init=\"random\"):\n",
    "    n = data[:,0].max()+1  # num of users\n",
    "    m = data[:,1].max()+1  # num of movies\n",
    "    P, Q = initialize_PQ_svd(n, m, R, k) if init == \"svd\" else initialize_PQ(n, m, k)\n",
    "    err = list()\n",
    "    err.append(evaluate_RMSE(R, P, Q))    \n",
    "    iteration = 0\n",
    "    N = R.shape[0]\n",
    "    while True:     \n",
    "        iteration += 1\n",
    "        for i in range(n): # use/find fixed Q(items) and solve for p_i(user)        \n",
    "            (Ai, b) = find_Ai_b(R, i, queryType=\"user\")\n",
    "            if b.shape[0] > 0:            \n",
    "                A = Q[Ai,:]\n",
    "                P[i, :] = la.lstsq(A,b)[0].reshape(k)\n",
    "\n",
    "        for i in range(m): # use/find fixed P(users) and solve for q_i(song)        \n",
    "            (Ai, b) = find_Ai_b(R, i, queryType=\"song\")\n",
    "            if b.shape[0] > 0:            \n",
    "                A = P[Ai,:]\n",
    "                Q[i, :] = la.lstsq(A,b)[0].reshape(k)\n",
    "        \n",
    "        err.append(evaluate_RMSE(R, P, Q))\n",
    "        if(iteration == cycles): break            \n",
    "    return P, Q, err, n, m\n",
    "    \n",
    "    \n",
    "    \n",
    "def find_Ai_b(R, query, queryType):\n",
    "    q_col = 0 if queryType == \"user\" else 1\n",
    "    i_col = 1 if queryType == \"user\" else 0\n",
    "    Aindices = list()\n",
    "    values = list()\n",
    "    for row in R:\n",
    "        if(row[q_col] == query):\n",
    "            Aindices.append(row[i_col])\n",
    "            values.append(row[2])\n",
    "    return np.asarray(Aindices), np.asarray(values).reshape(-1,1)\n",
    "    \n",
    "    "
   ]
  },
  {
   "cell_type": "code",
   "execution_count": 3,
   "metadata": {
    "collapsed": false
   },
   "outputs": [
    {
     "data": {
      "text/html": [
       "<div>\n",
       "<table border=\"1\" class=\"dataframe\">\n",
       "  <thead>\n",
       "    <tr style=\"text-align: right;\">\n",
       "      <th></th>\n",
       "      <th>0</th>\n",
       "      <th>1</th>\n",
       "      <th>2</th>\n",
       "    </tr>\n",
       "  </thead>\n",
       "  <tbody>\n",
       "    <tr>\n",
       "      <th>0</th>\n",
       "      <td>0</td>\n",
       "      <td>0</td>\n",
       "      <td>5</td>\n",
       "    </tr>\n",
       "    <tr>\n",
       "      <th>1</th>\n",
       "      <td>0</td>\n",
       "      <td>1</td>\n",
       "      <td>3</td>\n",
       "    </tr>\n",
       "    <tr>\n",
       "      <th>2</th>\n",
       "      <td>0</td>\n",
       "      <td>3</td>\n",
       "      <td>1</td>\n",
       "    </tr>\n",
       "    <tr>\n",
       "      <th>3</th>\n",
       "      <td>1</td>\n",
       "      <td>0</td>\n",
       "      <td>4</td>\n",
       "    </tr>\n",
       "    <tr>\n",
       "      <th>4</th>\n",
       "      <td>1</td>\n",
       "      <td>3</td>\n",
       "      <td>1</td>\n",
       "    </tr>\n",
       "    <tr>\n",
       "      <th>5</th>\n",
       "      <td>2</td>\n",
       "      <td>0</td>\n",
       "      <td>1</td>\n",
       "    </tr>\n",
       "    <tr>\n",
       "      <th>6</th>\n",
       "      <td>2</td>\n",
       "      <td>1</td>\n",
       "      <td>1</td>\n",
       "    </tr>\n",
       "    <tr>\n",
       "      <th>7</th>\n",
       "      <td>2</td>\n",
       "      <td>3</td>\n",
       "      <td>5</td>\n",
       "    </tr>\n",
       "    <tr>\n",
       "      <th>8</th>\n",
       "      <td>3</td>\n",
       "      <td>0</td>\n",
       "      <td>1</td>\n",
       "    </tr>\n",
       "    <tr>\n",
       "      <th>9</th>\n",
       "      <td>3</td>\n",
       "      <td>3</td>\n",
       "      <td>4</td>\n",
       "    </tr>\n",
       "    <tr>\n",
       "      <th>10</th>\n",
       "      <td>4</td>\n",
       "      <td>1</td>\n",
       "      <td>1</td>\n",
       "    </tr>\n",
       "    <tr>\n",
       "      <th>11</th>\n",
       "      <td>4</td>\n",
       "      <td>2</td>\n",
       "      <td>5</td>\n",
       "    </tr>\n",
       "    <tr>\n",
       "      <th>12</th>\n",
       "      <td>4</td>\n",
       "      <td>3</td>\n",
       "      <td>4</td>\n",
       "    </tr>\n",
       "  </tbody>\n",
       "</table>\n",
       "</div>"
      ],
      "text/plain": [
       "    0  1  2\n",
       "0   0  0  5\n",
       "1   0  1  3\n",
       "2   0  3  1\n",
       "3   1  0  4\n",
       "4   1  3  1\n",
       "5   2  0  1\n",
       "6   2  1  1\n",
       "7   2  3  5\n",
       "8   3  0  1\n",
       "9   3  3  4\n",
       "10  4  1  1\n",
       "11  4  2  5\n",
       "12  4  3  4"
      ]
     },
     "execution_count": 3,
     "metadata": {},
     "output_type": "execute_result"
    }
   ],
   "source": [
    "# http://www.quuxlabs.com/blog/2010/09/matrix-factorization-a-simple-tutorial-and-implementation-in-python/\n",
    "data = np.array([[0,0,5],\n",
    "                 [0,1,3],\n",
    "                 [0,3,1],\n",
    "                 [1,0,4],\n",
    "                 [1,3,1],\n",
    "                 [2,0,1],\n",
    "                 [2,1,1],\n",
    "                 [2,3,5],                 \n",
    "                 [3,0,1],\n",
    "                 [3,3,4],\n",
    "                 [4,1,1],\n",
    "                 [4,2,5],                                  \n",
    "                 [4,3,4]])\n",
    "pd.DataFrame(data)\n"
   ]
  },
  {
   "cell_type": "code",
   "execution_count": 4,
   "metadata": {
    "collapsed": false
   },
   "outputs": [
    {
     "name": "stdout",
     "output_type": "stream",
     "text": [
      "P\n",
      "[[ 10.132]\n",
      " [  7.609]\n",
      " [  8.862]\n",
      " [  7.769]\n",
      " [  9.994]]\n",
      "\n",
      "Q\n",
      "[[ 0.326]\n",
      " [ 0.175]\n",
      " [ 0.5  ]\n",
      " [ 0.333]]\n",
      "\n",
      "P * Q.T\n",
      "[[ 3.307  1.775  5.069  3.377]\n",
      " [ 2.483  1.333  3.807  2.536]\n",
      " [ 2.892  1.553  4.434  2.954]\n",
      " [ 2.535  1.361  3.887  2.59 ]\n",
      " [ 3.261  1.751  5.     3.331]]\n",
      "\n",
      "M\n",
      "[[ 5.  3.  0.  1.]\n",
      " [ 4.  0.  0.  1.]\n",
      " [ 1.  1.  0.  5.]\n",
      " [ 1.  0.  0.  4.]\n",
      " [ 0.  1.  5.  4.]]\n",
      "11\n"
     ]
    },
    {
     "data": {
      "text/plain": [
       "[<matplotlib.lines.Line2D at 0x11784bc50>]"
      ]
     },
     "execution_count": 4,
     "metadata": {},
     "output_type": "execute_result"
    },
    {
     "data": {
      "image/png": "[encoded data removed]",
      "text/plain": [
       "<matplotlib.figure.Figure at 0x1152eb5f8>"
      ]
     },
     "metadata": {},
     "output_type": "display_data"
    }
   ],
   "source": [
    "R = data\n",
    "k = 1\n",
    "cycles = 10\n",
    "P, Q, err, n, m = alternating_lstsq(R, k, cycles)\n",
    "M = R_to_M(n,m,R)\n",
    "print(\"P\")\n",
    "print(P)\n",
    "print(\"\\nQ\")\n",
    "print(Q)\n",
    "print(\"\\nP * Q.T\")\n",
    "print(P.dot(Q.T))\n",
    "print(\"\\nM\")\n",
    "print(M)\n",
    "print(len(err))\n",
    "\n",
    "\n",
    "\n",
    "\n",
    "%matplotlib inline\n",
    "plt.plot(err)"
   ]
  },
  {
   "cell_type": "code",
   "execution_count": null,
   "metadata": {
    "collapsed": false
   },
   "outputs": [],
   "source": []
  },
  {
   "cell_type": "code",
   "execution_count": 24,
   "metadata": {
    "collapsed": false
   },
   "outputs": [
    {
     "name": "stdout",
     "output_type": "stream",
     "text": [
      "[7 6 1 5 4 2 0 3 9 8]\n"
     ]
    },
    {
     "data": {
      "text/plain": [
       "array([1, 5, 4, 2, 0, 3, 9, 8])"
      ]
     },
     "execution_count": 24,
     "metadata": {},
     "output_type": "execute_result"
    }
   ],
   "source": [
    "alist = np.arange(10)\n",
    "np.random.seed(100)\n",
    "np.random.shuffle(alist)\n",
    "print(alist)\n",
    "alist[2:]"
   ]
  },
  {
   "cell_type": "code",
   "execution_count": 27,
   "metadata": {
    "collapsed": false
   },
   "outputs": [
    {
     "data": {
      "text/plain": [
       "array([6, 1, 5])"
      ]
     },
     "execution_count": 27,
     "metadata": {},
     "output_type": "execute_result"
    }
   ],
   "source": [
    "alist[1:4]"
   ]
  },
  {
   "cell_type": "code",
   "execution_count": 28,
   "metadata": {
    "collapsed": true
   },
   "outputs": [],
   "source": [
    "d = {1:alist}"
   ]
  },
  {
   "cell_type": "code",
   "execution_count": 29,
   "metadata": {
    "collapsed": false
   },
   "outputs": [
    {
     "data": {
      "text/plain": [
       "{1: array([7, 6, 1, 5, 4, 2, 0, 3, 9, 8])}"
      ]
     },
     "execution_count": 29,
     "metadata": {},
     "output_type": "execute_result"
    }
   ],
   "source": [
    "d"
   ]
  },
  {
   "cell_type": "code",
   "execution_count": 32,
   "metadata": {
    "collapsed": false
   },
   "outputs": [
    {
     "data": {
      "text/plain": [
       "numpy.ndarray"
      ]
     },
     "execution_count": 32,
     "metadata": {},
     "output_type": "execute_result"
    }
   ],
   "source": [
    "type(alist)"
   ]
  },
  {
   "cell_type": "code",
   "execution_count": null,
   "metadata": {
    "collapsed": true
   },
   "outputs": [],
   "source": []
  }
 ],
 "metadata": {
  "anaconda-cloud": {},
  "kernelspec": {
   "display_name": "Python [conda root]",
   "language": "python",
   "name": "conda-root-py"
  },
  "language_info": {
   "codemirror_mode": {
    "name": "ipython",
    "version": 3
   },
   "file_extension": ".py",
   "mimetype": "text/x-python",
   "name": "python",
   "nbconvert_exporter": "python",
   "pygments_lexer": "ipython3",
   "version": "3.5.2"
  }
 },
 "nbformat": 4,
 "nbformat_minor": 1
}
